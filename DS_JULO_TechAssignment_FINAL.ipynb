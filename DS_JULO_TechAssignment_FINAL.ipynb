{
  "cells": [
    {
      "attachments": {},
      "cell_type": "markdown",
      "id": "a624df78-22d2-4070-ab77-f1b3f2fd77a2",
      "metadata": {
        "id": "a624df78-22d2-4070-ab77-f1b3f2fd77a2"
      },
      "source": [
        "# Welcome to the JULO Data Science Take Home Assignment"
      ]
    },
    {
      "attachments": {},
      "cell_type": "markdown",
      "id": "767463b7-a144-4ea8-a29e-0a05f7b804a0",
      "metadata": {
        "id": "767463b7-a144-4ea8-a29e-0a05f7b804a0"
      },
      "source": [
        "JULO provides virtual credit limits to it's customers to meet a wide array of customer financing needs. We have provided you with some data related to our customer's loan applications, loan details and their repayment history.\n",
        "\n",
        "JULO wants to use this data to improve their risk management, and asks you to use your Data Science skills to derive valuable insights from the data and to build a predictive credit score model to aid in future customer credit decisions."
      ]
    },
    {
      "attachments": {},
      "cell_type": "markdown",
      "id": "dd1cc9fe-cb5c-4275-8fa7-6ef96d1f4b24",
      "metadata": {
        "id": "dd1cc9fe-cb5c-4275-8fa7-6ef96d1f4b24"
      },
      "source": [
        "**Requirements:**\n",
        "1. You have 7 days to report on the assignment\n",
        "2. Please use python to solve this exercise. You can use libraries such as: sqlalchemy, pandas, or any other packages of your choice that can help you work on the assignments\n",
        "3. For visualizations, please use python and its common libraries\n",
        "4. When you are prompted to use sql, please use sqlalchemy for that assignment"
      ]
    },
    {
      "attachments": {},
      "cell_type": "markdown",
      "id": "216ff0f0-f1f6-49e2-83c9-19f5991a7a1a",
      "metadata": {
        "id": "216ff0f0-f1f6-49e2-83c9-19f5991a7a1a"
      },
      "source": [
        "**Deliverables:**\n",
        "1. Python Jupyter notebook with your code (please comment the code! this let us follow your thought process)\n",
        "2. In addition, also save your notebooks in .html file and attach it with the actual code"
      ]
    },
    {
      "attachments": {},
      "cell_type": "markdown",
      "id": "b01c8b41-bc50-45bd-a1fd-4c79ac3bb930",
      "metadata": {
        "id": "b01c8b41-bc50-45bd-a1fd-4c79ac3bb930"
      },
      "source": [
        "**What are we looking for:**\n",
        "1. Story from the data (Completeness of analysis/ story)\n",
        "2. There is no right solution to this assignment\n",
        "3. Your thought process (Be precise, straight to the point, and remember to comment the code)\n",
        "4. The rationale behind the decisions you made (Provide justifications to your recommendations)"
      ]
    },
    {
      "cell_type": "code",
      "execution_count": 3,
      "id": "77b26ffc-6238-4d4c-9554-7854971dcc01",
      "metadata": {
        "id": "77b26ffc-6238-4d4c-9554-7854971dcc01"
      },
      "outputs": [],
      "source": [
        "import numpy as np\n",
        "import pandas as pd\n",
        "import sqlalchemy as sa\n",
        "path = 'data/'"
      ]
    },
    {
      "attachments": {},
      "cell_type": "markdown",
      "id": "f9e063ed-9cb5-42bc-afac-f96de3a85399",
      "metadata": {
        "id": "f9e063ed-9cb5-42bc-afac-f96de3a85399"
      },
      "source": [
        "We have already prepared a database for you to query from"
      ]
    },
    {
      "cell_type": "code",
      "execution_count": 4,
      "id": "2108e8ec-c151-4a9a-a31e-c0b018978b89",
      "metadata": {
        "id": "2108e8ec-c151-4a9a-a31e-c0b018978b89"
      },
      "outputs": [],
      "source": [
        " # Create SQL Alchemy Engine\n",
        "engine = sa.create_engine('sqlite:///database.db')"
      ]
    },
    {
      "cell_type": "code",
      "execution_count": 64,
      "id": "821ce7b8-f4b8-454c-82e9-8171c9eb3026",
      "metadata": {
        "id": "821ce7b8-f4b8-454c-82e9-8171c9eb3026"
      },
      "outputs": [],
      "source": [
        "# Import data as pd.DataFrame\n",
        "application_df = pd.read_csv(path + 'application.csv')\n",
        "loan_df = pd.read_csv(path + 'loan.csv')\n",
        "payment1_df = pd.read_csv(path + 'payment1.csv')\n",
        "payment2_df = pd.read_csv(path + 'payment2.csv')"
      ]
    },
    {
      "cell_type": "code",
      "execution_count": 65,
      "id": "05f44d94-85db-4158-be02-d4c5d86987eb",
      "metadata": {
        "id": "05f44d94-85db-4158-be02-d4c5d86987eb"
      },
      "outputs": [
        {
          "data": {
            "text/plain": [
              "17911"
            ]
          },
          "execution_count": 65,
          "metadata": {},
          "output_type": "execute_result"
        }
      ],
      "source": [
        "# Insert data from pd.DataFrame to SQL Alchemy Engine\n",
        "application_df.to_sql(name='application', con=engine,if_exists='replace')\n",
        "loan_df.to_sql(name='loan', con=engine,if_exists='replace')\n",
        "payment1_df.to_sql(name='payment1', con=engine,if_exists='replace')\n",
        "payment2_df.to_sql(name='payment2', con=engine,if_exists='replace')"
      ]
    },
    {
      "cell_type": "code",
      "execution_count": 66,
      "id": "b787541f",
      "metadata": {},
      "outputs": [
        {
          "data": {
            "text/html": [
              "<div>\n",
              "<style scoped>\n",
              "    .dataframe tbody tr th:only-of-type {\n",
              "        vertical-align: middle;\n",
              "    }\n",
              "\n",
              "    .dataframe tbody tr th {\n",
              "        vertical-align: top;\n",
              "    }\n",
              "\n",
              "    .dataframe thead th {\n",
              "        text-align: right;\n",
              "    }\n",
              "</style>\n",
              "<table border=\"1\" class=\"dataframe\">\n",
              "  <thead>\n",
              "    <tr style=\"text-align: right;\">\n",
              "      <th></th>\n",
              "      <th>Unnamed: 0</th>\n",
              "      <th>loan_id</th>\n",
              "      <th>loan_amount</th>\n",
              "      <th>loan_duration</th>\n",
              "      <th>installment_amount</th>\n",
              "      <th>fund_transfer_ts</th>\n",
              "      <th>application_id</th>\n",
              "    </tr>\n",
              "  </thead>\n",
              "  <tbody>\n",
              "    <tr>\n",
              "      <th>0</th>\n",
              "      <td>0</td>\n",
              "      <td>2.005021e+12</td>\n",
              "      <td>421632.0</td>\n",
              "      <td>5.0</td>\n",
              "      <td>113000.0</td>\n",
              "      <td>2021-10-28 02:53:53.512501+00:00</td>\n",
              "      <td>2.004027e+12</td>\n",
              "    </tr>\n",
              "    <tr>\n",
              "      <th>1</th>\n",
              "      <td>1</td>\n",
              "      <td>2.005021e+12</td>\n",
              "      <td>300000.0</td>\n",
              "      <td>3.0</td>\n",
              "      <td>118000.0</td>\n",
              "      <td>2021-04-10 15:20:20.480261+00:00</td>\n",
              "      <td>2.004026e+12</td>\n",
              "    </tr>\n",
              "    <tr>\n",
              "      <th>2</th>\n",
              "      <td>2</td>\n",
              "      <td>2.005021e+12</td>\n",
              "      <td>500000.0</td>\n",
              "      <td>6.0</td>\n",
              "      <td>113000.0</td>\n",
              "      <td>2021-02-23 08:27:53.192023+00:00</td>\n",
              "      <td>2.004026e+12</td>\n",
              "    </tr>\n",
              "    <tr>\n",
              "      <th>3</th>\n",
              "      <td>3</td>\n",
              "      <td>2.005021e+12</td>\n",
              "      <td>2500000.0</td>\n",
              "      <td>6.0</td>\n",
              "      <td>566000.0</td>\n",
              "      <td>2021-02-10 02:41:30.887286+00:00</td>\n",
              "      <td>2.004026e+12</td>\n",
              "    </tr>\n",
              "    <tr>\n",
              "      <th>4</th>\n",
              "      <td>4</td>\n",
              "      <td>2.005021e+12</td>\n",
              "      <td>500000.0</td>\n",
              "      <td>NaN</td>\n",
              "      <td>196000.0</td>\n",
              "      <td>2021-02-14 01:57:11.613161+00:00</td>\n",
              "      <td>2.004026e+12</td>\n",
              "    </tr>\n",
              "    <tr>\n",
              "      <th>...</th>\n",
              "      <td>...</td>\n",
              "      <td>...</td>\n",
              "      <td>...</td>\n",
              "      <td>...</td>\n",
              "      <td>...</td>\n",
              "      <td>...</td>\n",
              "      <td>...</td>\n",
              "    </tr>\n",
              "    <tr>\n",
              "      <th>5228</th>\n",
              "      <td>5228</td>\n",
              "      <td>2.005021e+12</td>\n",
              "      <td>500000.0</td>\n",
              "      <td>5.0</td>\n",
              "      <td>140000.0</td>\n",
              "      <td>2021-07-09 03:17:44.062103+00:00</td>\n",
              "      <td>2.004026e+12</td>\n",
              "    </tr>\n",
              "    <tr>\n",
              "      <th>5229</th>\n",
              "      <td>5229</td>\n",
              "      <td>2.005021e+12</td>\n",
              "      <td>526895.0</td>\n",
              "      <td>3.0</td>\n",
              "      <td>201000.0</td>\n",
              "      <td>2021-11-11 09:09:24.693283+00:00</td>\n",
              "      <td>2.004028e+12</td>\n",
              "    </tr>\n",
              "    <tr>\n",
              "      <th>5230</th>\n",
              "      <td>5230</td>\n",
              "      <td>2.005021e+12</td>\n",
              "      <td>263737.0</td>\n",
              "      <td>3.0</td>\n",
              "      <td>101000.0</td>\n",
              "      <td>2021-11-15 04:27:13.157537+00:00</td>\n",
              "      <td>2.004028e+12</td>\n",
              "    </tr>\n",
              "    <tr>\n",
              "      <th>5231</th>\n",
              "      <td>5231</td>\n",
              "      <td>2.005022e+12</td>\n",
              "      <td>700000.0</td>\n",
              "      <td>4.0</td>\n",
              "      <td>217000.0</td>\n",
              "      <td>2022-01-16 02:57:49.484083+00:00</td>\n",
              "      <td>2.004027e+12</td>\n",
              "    </tr>\n",
              "    <tr>\n",
              "      <th>5232</th>\n",
              "      <td>5232</td>\n",
              "      <td>2.005021e+12</td>\n",
              "      <td>500000.0</td>\n",
              "      <td>5.0</td>\n",
              "      <td>140000.0</td>\n",
              "      <td>2021-05-24 07:27:34.408160+00:00</td>\n",
              "      <td>2.004026e+12</td>\n",
              "    </tr>\n",
              "  </tbody>\n",
              "</table>\n",
              "<p>5233 rows × 7 columns</p>\n",
              "</div>"
            ],
            "text/plain": [
              "      Unnamed: 0       loan_id  loan_amount  loan_duration  \\\n",
              "0              0  2.005021e+12     421632.0            5.0   \n",
              "1              1  2.005021e+12     300000.0            3.0   \n",
              "2              2  2.005021e+12     500000.0            6.0   \n",
              "3              3  2.005021e+12    2500000.0            6.0   \n",
              "4              4  2.005021e+12     500000.0            NaN   \n",
              "...          ...           ...          ...            ...   \n",
              "5228        5228  2.005021e+12     500000.0            5.0   \n",
              "5229        5229  2.005021e+12     526895.0            3.0   \n",
              "5230        5230  2.005021e+12     263737.0            3.0   \n",
              "5231        5231  2.005022e+12     700000.0            4.0   \n",
              "5232        5232  2.005021e+12     500000.0            5.0   \n",
              "\n",
              "      installment_amount                  fund_transfer_ts  application_id  \n",
              "0               113000.0  2021-10-28 02:53:53.512501+00:00    2.004027e+12  \n",
              "1               118000.0  2021-04-10 15:20:20.480261+00:00    2.004026e+12  \n",
              "2               113000.0  2021-02-23 08:27:53.192023+00:00    2.004026e+12  \n",
              "3               566000.0  2021-02-10 02:41:30.887286+00:00    2.004026e+12  \n",
              "4               196000.0  2021-02-14 01:57:11.613161+00:00    2.004026e+12  \n",
              "...                  ...                               ...             ...  \n",
              "5228            140000.0  2021-07-09 03:17:44.062103+00:00    2.004026e+12  \n",
              "5229            201000.0  2021-11-11 09:09:24.693283+00:00    2.004028e+12  \n",
              "5230            101000.0  2021-11-15 04:27:13.157537+00:00    2.004028e+12  \n",
              "5231            217000.0  2022-01-16 02:57:49.484083+00:00    2.004027e+12  \n",
              "5232            140000.0  2021-05-24 07:27:34.408160+00:00    2.004026e+12  \n",
              "\n",
              "[5233 rows x 7 columns]"
            ]
          },
          "execution_count": 66,
          "metadata": {},
          "output_type": "execute_result"
        }
      ],
      "source": [
        "loan_df"
      ]
    },
    {
      "cell_type": "code",
      "execution_count": 7,
      "id": "74a149ac-3aba-411e-811e-a2a7215fd09e",
      "metadata": {
        "id": "74a149ac-3aba-411e-811e-a2a7215fd09e"
      },
      "outputs": [],
      "source": [
        "def query_from_db(sql_long_string, engine):\n",
        "    \"\"\"\n",
        "    Execute SQL Statement and return the queried data as a pandas.DataFrame object\n",
        "\n",
        "    :param sql_long_string: SQL statement\n",
        "    :param engine: SQL Alchemy engine\n",
        "    \"\"\"\n",
        "    statement = engine.execute(sql_long_string)\n",
        "    df = pd.DataFrame(statement.fetchall())\n",
        "    df.columns = statement.keys()\n",
        "    return df"
      ]
    },
    {
      "attachments": {},
      "cell_type": "markdown",
      "id": "8ac073b9-2e55-4fd4-9cf7-04813f357976",
      "metadata": {
        "id": "8ac073b9-2e55-4fd4-9cf7-04813f357976"
      },
      "source": [
        "### Assignment 1 - Data Preparation and Cleaning"
      ]
    },
    {
      "attachments": {},
      "cell_type": "markdown",
      "id": "116fe3fa-6fa9-4d08-b435-20a4aa90e347",
      "metadata": {
        "id": "116fe3fa-6fa9-4d08-b435-20a4aa90e347"
      },
      "source": [
        "Please do all these tasks in SQL query.\n",
        "\n",
        "1. Combine all the tables into a single dataframe.\n",
        "2. Do you notice anything suspicious with the dataframe? If yes, please do a preliminary analysis and fix it. Explain what you found and how you fix it.\n",
        "3. Do you see any outliers? Explain how do you detect the outlier and how you fix it.\n",
        "4. Provide your assumptions on the data."
      ]
    },
    {
      "attachments": {},
      "cell_type": "markdown",
      "id": "dcb3e16b-fde6-47e3-b254-89e5f4eb4544",
      "metadata": {
        "id": "dcb3e16b-fde6-47e3-b254-89e5f4eb4544",
        "tags": []
      },
      "source": [
        "### Assignment 2 - Label analysis"
      ]
    },
    {
      "attachments": {},
      "cell_type": "markdown",
      "id": "7a26afe8-3b68-4612-97fc-f681cdbe8ae0",
      "metadata": {
        "id": "7a26afe8-3b68-4612-97fc-f681cdbe8ae0"
      },
      "source": [
        "Please do all these analysis in SQL query.\n",
        "1. We don't want to give credit to `bad` customers (customers that don't pay at all). Can you define what a `bad` customers is from the dataset provided and what is the earliest indicator to say that a customer is `bad`?\n",
        "2. Based on the label that you defined, what kind of trends do you see in the data that distinguish good and bad customers?\n",
        "3. Arrange customers by “loan amount” in ascending order and provide cumulative default rates by equal-sized deciles. Each decile should have:\n",
        "> a. Number of loans <br>\n",
        "> b. Number of defaulted loans <br>\n",
        "> c. The default rate for each decile <br>\n",
        "> d. Cumulative default rate <br>\n",
        "> e. Min, max, avg “loan amount” <br>"
      ]
    },
    {
      "attachments": {},
      "cell_type": "markdown",
      "id": "cc973b67-717f-4e14-acb9-e23a320f4fb5",
      "metadata": {
        "id": "cc973b67-717f-4e14-acb9-e23a320f4fb5",
        "tags": []
      },
      "source": [
        "### Assignment 3 - Feature Engineering"
      ]
    },
    {
      "attachments": {},
      "cell_type": "markdown",
      "id": "cf209902-d807-4b7f-a6cf-7a3bab7df5dd",
      "metadata": {
        "id": "cf209902-d807-4b7f-a6cf-7a3bab7df5dd"
      },
      "source": [
        "Based on your findings in Assignment 2, please create features using SQL that you think could be predictive for a machine learning model."
      ]
    },
    {
      "attachments": {},
      "cell_type": "markdown",
      "id": "53ab664b-554b-4840-9079-4a809f471d25",
      "metadata": {
        "id": "53ab664b-554b-4840-9079-4a809f471d25",
        "tags": []
      },
      "source": [
        "### Assignment 4 - Data Visualization\n",
        "Using the features you engineered in Assignment 3, could you visualize the data to show a business user that your features are useful?"
      ]
    },
    {
      "attachments": {},
      "cell_type": "markdown",
      "id": "c3726fb5-d7cc-47ea-8135-02999feb260b",
      "metadata": {
        "id": "c3726fb5-d7cc-47ea-8135-02999feb260b",
        "tags": []
      },
      "source": [
        "### Assignment 5 - Modeling"
      ]
    },
    {
      "attachments": {},
      "cell_type": "markdown",
      "id": "5d36e01f-2046-4576-bb75-0fad657008c1",
      "metadata": {
        "id": "5d36e01f-2046-4576-bb75-0fad657008c1"
      },
      "source": [
        "1. Please build model(s) using the label and features that you have developed.\n",
        "2. Which metrics do you use? and why? \n",
        "3. Explain why your model can be considered as good enough.\n",
        "4. How can the business use the model?\n",
        "5. Could you provide which customers/loan we should avoid? Why?\n",
        "6. If the business would like to achieve 2% cumulative default rate, which loans should we accept?\n",
        "7. What are the characteristics of a defaulter, and how important are they?"
      ]
    },
    {
      "attachments": {},
      "cell_type": "markdown",
      "id": "d4a93763-a696-4e5d-94e4-fdcd113f4621",
      "metadata": {
        "id": "d4a93763-a696-4e5d-94e4-fdcd113f4621",
        "tags": []
      },
      "source": [
        "### Assignment 6 - Further Improvement"
      ]
    },
    {
      "attachments": {},
      "cell_type": "markdown",
      "id": "1a3006fa-e37e-41da-bf8e-5a2e459720f3",
      "metadata": {
        "id": "1a3006fa-e37e-41da-bf8e-5a2e459720f3"
      },
      "source": [
        "If you have had more time, what would you recommend to further improve the model and why?"
      ]
    },
    {
      "attachments": {},
      "cell_type": "markdown",
      "id": "e3f37b45-cb80-4aab-8834-67af3a684393",
      "metadata": {
        "id": "e3f37b45-cb80-4aab-8834-67af3a684393",
        "tags": []
      },
      "source": [
        "## Assignment 7\n",
        "At JULO, we have 6 values that we follow, that are following our two core values:\n",
        "\n",
        "![6 Core Values](julo_values.png)\n",
        "\n",
        "A. Please choose three Core Values from the 6 values above that you think is your strength, share us one specific example where you showed it"
      ]
    },
    {
      "attachments": {},
      "cell_type": "markdown",
      "id": "7fb34e4c-bc33-45f3-9f8b-8e41068cd319",
      "metadata": {
        "id": "7fb34e4c-bc33-45f3-9f8b-8e41068cd319"
      },
      "source": [
        "B. Please choose three Core Values from the 6 values above that you think is your weakness, share us one specific example where you showed it"
      ]
    },
    {
      "attachments": {},
      "cell_type": "markdown",
      "id": "02085471-fa99-4e6b-8573-e792ad342073",
      "metadata": {
        "id": "02085471-fa99-4e6b-8573-e792ad342073"
      },
      "source": [
        "C. Please order the 6 Core Values based on your priority if you work at JULO and why "
      ]
    }
  ],
  "metadata": {
    "colab": {
      "name": "DS_JULO_TechAssignment_mw.ipynb",
      "provenance": []
    },
    "kernelspec": {
      "display_name": "Python 3 (ipykernel)",
      "language": "python",
      "name": "python3"
    },
    "language_info": {
      "codemirror_mode": {
        "name": "ipython",
        "version": 3
      },
      "file_extension": ".py",
      "mimetype": "text/x-python",
      "name": "python",
      "nbconvert_exporter": "python",
      "pygments_lexer": "ipython3",
      "version": "3.10.11"
    }
  },
  "nbformat": 4,
  "nbformat_minor": 5
}
